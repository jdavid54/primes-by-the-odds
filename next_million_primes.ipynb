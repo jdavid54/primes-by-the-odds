{
 "cells": [
  {
   "cell_type": "code",
   "execution_count": 1,
   "metadata": {},
   "outputs": [],
   "source": [
    "import pickle\n",
    "from numpy import sqrt\n",
    "ops = 0\n",
    "\n",
    "files = [\"primes2million.pkl\",\"primes3million.pkl\",\"primes4million.pkl\",\n",
    "        \"primes5million.pkl\",\"primes6million.pkl\",\"primes7million.pkl\",\n",
    "        \"primes8million.pkl\", \"primes9million.pkl\",\"primes10million.pkl\"]\n",
    "# reset primes to the first 1 million search\n",
    "with open('primes.pkl', 'rb') as f:\n",
    "    primes = pickle.load(f)\n",
    "\n",
    "for file in files:    \n",
    "    # read from file\n",
    "    with open(file, 'rb') as f:\n",
    "        mynewprimeslist = pickle.load(f)\n",
    "    # reset primes with data read\n",
    "    primes = primes+mynewprimeslist"
   ]
  },
  {
   "cell_type": "code",
   "execution_count": 4,
   "metadata": {},
   "outputs": [
    {
     "data": {
      "text/plain": [
       "(664579, [2, 3, 5, 7, 11], [9999937, 9999943, 9999971, 9999973, 9999991])"
      ]
     },
     "execution_count": 4,
     "metadata": {},
     "output_type": "execute_result"
    }
   ],
   "source": [
    "len(primes),primes[:5],primes[-5:]"
   ]
  },
  {
   "cell_type": "code",
   "execution_count": 7,
   "metadata": {},
   "outputs": [],
   "source": [
    "\n",
    "debug = False\n",
    "\n",
    "def dummy(*args, **kargs): pass\n",
    "\n",
    "if not debug: \n",
    "    #don't print\n",
    "    xprint = dummy\n",
    "else:\n",
    "    #please print for debug\n",
    "    xprint = print\n",
    "\n",
    "\n",
    "def next_series():\n",
    "    global ops\n",
    "    next_primes = []\n",
    "    for n in range(min,max,2):\n",
    "        prime=True\n",
    "        #odds.append(n)\n",
    "        for k in primes:\n",
    "            if k>sqrt(n):break\n",
    "            ops+=1\n",
    "            xprint(n,k,n%k==0,end=\"\")\n",
    "            if (n%k) == 0:\n",
    "                prime = False\n",
    "                xprint()\n",
    "                xprint(n,\" is not prime!\")\n",
    "                xprint()\n",
    "                break\n",
    "            else:\n",
    "                xprint()\n",
    "        # after divisions with all primes or n not prime   \n",
    "        if prime and n not in primes:\n",
    "            xprint(n,\" is prime !\")\n",
    "            primes.append(n)\n",
    "            next_primes.append(n)\n",
    "            xprint()\n",
    "    return primes, next_primes"
   ]
  },
  {
   "cell_type": "code",
   "execution_count": 5,
   "metadata": {},
   "outputs": [
    {
     "data": {
      "text/plain": [
       "11000001"
      ]
     },
     "execution_count": 5,
     "metadata": {},
     "output_type": "execute_result"
    }
   ],
   "source": [
    "# next from min=1million+1 to max\n",
    "next = 1000000\n",
    "min = 10000001  # must be odd\n",
    "max = min + next\n",
    "max"
   ]
  },
  {
   "cell_type": "code",
   "execution_count": 8,
   "metadata": {},
   "outputs": [],
   "source": [
    "primes, primes2 = next_series()\n",
    "\n",
    "# 34m 33.3s without sqrt(n)\n",
    "# 17.9s with sqrt(n) for 100000\n",
    "# 4mn 44.1s for 2000000\n",
    "# 9mn 40.9s for 3000000\n",
    "# 7mn 52.9s for 4000000\n",
    "# 10mn 8.3s for 5 millions\n",
    "# 11mn 35.9s 6 millions\n",
    "# 12mn 51.2s 7 millions\n",
    "# 13mn 12.8s 8 millions\n",
    "# 15mn 35.9s 9 millions\n",
    "# 23mn 49.4s 10 millions"
   ]
  },
  {
   "cell_type": "code",
   "execution_count": 10,
   "metadata": {},
   "outputs": [
    {
     "name": "stdout",
     "output_type": "stream",
     "text": [
      "10998391\t10998409\t10998433\t\n",
      "10998437\t10998461\t10998469\t10998487\t10998499\t10998523\t10998551\t10998553\t10998557\t10998563\t10998593\t10998599\t10998601\t10998607\t10998661\t\n",
      "10998671\t10998679\t10998697\t10998703\t10998737\t10998763\t10998781\t10998791\t10998803\t10998809\t10998811\t10998833\t10998857\t10998907\t10998913\t\n",
      "10998943\t10998973\t10998979\t10998989\t10998997\t10999039\t10999057\t10999063\t10999067\t10999073\t10999097\t10999147\t10999151\t10999171\t10999181\t\n",
      "10999199\t10999201\t10999211\t10999217\t10999223\t10999229\t10999253\t10999273\t10999283\t10999291\t10999301\t10999321\t10999333\t10999379\t10999399\t\n",
      "10999427\t10999441\t10999453\t10999463\t10999477\t10999489\t10999501\t10999507\t10999519\t10999523\t10999559\t10999601\t10999621\t10999631\t10999643\t\n",
      "10999657\t10999661\t10999669\t10999691\t10999711\t10999721\t10999733\t10999757\t10999763\t10999771\t10999811\t10999829\t10999837\t10999843\t10999853\t\n",
      "10999861\t10999871\t10999949\t10999951\t10999979\t10999987\t10999997\t"
     ]
    }
   ],
   "source": [
    "last = 100  # the last ones\n",
    "start = len(primes)-last+1\n",
    "end = start + last\n",
    "for k in range(start,end):\n",
    "    print(primes[k-1],end=\"\\t\")\n",
    "    if k%15==0: print()"
   ]
  },
  {
   "cell_type": "code",
   "execution_count": 11,
   "metadata": {},
   "outputs": [
    {
     "data": {
      "text/plain": [
       "(61938,\n",
       " [10000019, 10000079, 10000103, 10000121, 10000139],\n",
       " [10999949, 10999951, 10999979, 10999987, 10999997])"
      ]
     },
     "execution_count": 11,
     "metadata": {},
     "output_type": "execute_result"
    }
   ],
   "source": [
    "len(primes2),primes2[:5], primes2[-5:]"
   ]
  },
  {
   "cell_type": "code",
   "execution_count": 9,
   "metadata": {},
   "outputs": [],
   "source": [
    "#save primes2\n",
    "with open('primes12million.pkl', 'wb') as f:\n",
    "     pickle.dump(primes2, f)"
   ]
  }
 ],
 "metadata": {
  "kernelspec": {
   "display_name": "Python 3",
   "language": "python",
   "name": "python3"
  },
  "language_info": {
   "codemirror_mode": {
    "name": "ipython",
    "version": 3
   },
   "file_extension": ".py",
   "mimetype": "text/x-python",
   "name": "python",
   "nbconvert_exporter": "python",
   "pygments_lexer": "ipython3",
   "version": "3.10.11"
  }
 },
 "nbformat": 4,
 "nbformat_minor": 2
}
