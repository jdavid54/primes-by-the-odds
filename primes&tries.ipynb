{
 "cells": [
  {
   "cell_type": "code",
   "execution_count": null,
   "metadata": {},
   "outputs": [],
   "source": [
    "from numpy import sqrt\n"
   ]
  },
  {
   "cell_type": "code",
   "execution_count": null,
   "metadata": {},
   "outputs": [],
   "source": [
    "debug = False\n",
    "# for debugging print\n",
    "def dummy(*args, **kargs): pass\n",
    "\n",
    "if not debug: \n",
    "    #don't print\n",
    "    xprint = dummy\n",
    "else:\n",
    "    #please print for debug\n",
    "    xprint = print"
   ]
  },
  {
   "cell_type": "code",
   "execution_count": null,
   "metadata": {},
   "outputs": [],
   "source": [
    "# limit\n",
    "max = 1000000\n",
    "\n",
    "odds=[]\n",
    "primes = []\n",
    "# sum of tries = ops\n",
    "ops=0\n",
    "tries = []  # tries for each number tested\n",
    "\n",
    "# pairs detection\n",
    "last_n = 2\n",
    "pairs = []"
   ]
  },
  {
   "cell_type": "code",
   "execution_count": null,
   "metadata": {},
   "outputs": [],
   "source": [
    "# main start\n",
    "print(f\"Searching primes until {max}\")\n",
    "\n",
    "for n in range(3,max,2):   #candidates = all odds from 3 to max\n",
    "    if n%10==5 and n!=5:continue\n",
    "    prime = True    \n",
    "    count = 0\n",
    "    for k in primes:  # division by all known primes\n",
    "        if k>sqrt(n):break\n",
    "        ops+=1\n",
    "        count += 1\n",
    "        xprint(primes,sqrt(n),k>sqrt(n))\n",
    "        xprint(n,k,n%k==0,end=\"\")\n",
    "        if (n%k) == 0:\n",
    "            prime = False\n",
    "            xprint()\n",
    "            xprint(n,\" is not prime!\")           \n",
    "            xprint()\n",
    "            break  # next n if n is not prime \n",
    "        else:\n",
    "            xprint()\n",
    "    \n",
    "    # after divisions with all primes or if n not prime   \n",
    "    if prime:\n",
    "        xprint(n,\" is prime !\")\n",
    "        if n not in primes:\n",
    "            primes.append(n)\n",
    "        xprint()\n",
    "        if last_n+2==n:\n",
    "            pairs.append((last_n, n))            \n",
    "        last_n = n\n",
    "    tries.append(count)\n",
    "primes = [2] + primes   \n"
   ]
  },
  {
   "cell_type": "code",
   "execution_count": null,
   "metadata": {},
   "outputs": [],
   "source": [
    "#xprint(odds)\n",
    "print(primes)\n",
    "print(ops)\n",
    "xprint(pairs)\n",
    "xprint(len(primes),len(tries))\n"
   ]
  },
  {
   "cell_type": "code",
   "execution_count": null,
   "metadata": {},
   "outputs": [],
   "source": [
    "import numpy as np\n",
    "flat=list(set(np.array(pairs).flatten()))\n",
    "flat.sort()\n",
    "print(flat)\n"
   ]
  },
  {
   "cell_type": "code",
   "execution_count": null,
   "metadata": {},
   "outputs": [],
   "source": [
    "import matplotlib.pyplot as plt\n",
    "fig, (ax1, ax2) = plt.subplots(2, 1)\n",
    "ax1.plot(tries)\n",
    "ax1.set_title(\"Tries\")\n",
    "ax2.scatter(flat,flat,marker=\".\",s=2)\n",
    "ax2.set_title(\"Pairs\")\n",
    "fig.tight_layout()\n",
    "plt.show()"
   ]
  },
  {
   "cell_type": "markdown",
   "metadata": {},
   "source": [
    "# Get 1 million primes from  file"
   ]
  },
  {
   "cell_type": "code",
   "execution_count": null,
   "metadata": {},
   "outputs": [],
   "source": [
    "# reset primes with data read\n",
    "import pickle\n",
    "with open('primes.pkl', 'rb') as f:\n",
    "    primes = pickle.load(f)\n"
   ]
  },
  {
   "cell_type": "markdown",
   "metadata": {},
   "source": [
    "# Density map of primes"
   ]
  },
  {
   "cell_type": "code",
   "execution_count": null,
   "metadata": {},
   "outputs": [],
   "source": [
    "density_map = [1]\n",
    "density = 1\n",
    "sets = [[2]]\n",
    "s = []\n",
    "for k in range(1,len(primes)-1):    \n",
    "    if primes[k]+2==primes[k+1]:\n",
    "        s.append(primes[k])\n",
    "        density += 1\n",
    "    else:\n",
    "        s.append(primes[k])\n",
    "        density_map.append(density)\n",
    "        sets.append(s)\n",
    "        density = 1\n",
    "        s = []\n"
   ]
  },
  {
   "cell_type": "code",
   "execution_count": null,
   "metadata": {},
   "outputs": [],
   "source": [
    "primes[:20]"
   ]
  },
  {
   "cell_type": "code",
   "execution_count": null,
   "metadata": {},
   "outputs": [],
   "source": [
    "print(density_map)"
   ]
  },
  {
   "cell_type": "code",
   "execution_count": null,
   "metadata": {},
   "outputs": [],
   "source": [
    "print(sets)"
   ]
  },
  {
   "cell_type": "code",
   "execution_count": null,
   "metadata": {},
   "outputs": [],
   "source": [
    "len(primes), primes[78497], len(density_map)"
   ]
  },
  {
   "cell_type": "code",
   "execution_count": null,
   "metadata": {},
   "outputs": [],
   "source": [
    "fig, (ax1,ax2,ax3, ax4) = plt.subplots(4,1,figsize=(18,5))\n",
    "\n",
    "# beginning zone\n",
    "ax1.set_ylim(0.9, 3.1)\n",
    "ax1.plot(density_map[:500])\n",
    "#next zone\n",
    "x2 = list(range(500,1000))\n",
    "ax2.set_ylim(0.9, 3.1)\n",
    "ax2.plot(x2,density_map[500:1000])\n",
    "# mid zone\n",
    "ax3.set_ylim(0.9, 3.1)\n",
    "x3 = list(range(35000,35500))\n",
    "ax3.plot(x3,density_map[35000:35500])\n",
    "# end zone\n",
    "ax4.set_ylim(0.9, 3.1)\n",
    "x4 = list(range(69800,70328))\n",
    "ax4.plot(x4,density_map[69800:70328])\n",
    "fig.tight_layout()\n"
   ]
  }
 ],
 "metadata": {
  "kernelspec": {
   "display_name": "Python 3",
   "language": "python",
   "name": "python3"
  },
  "language_info": {
   "codemirror_mode": {
    "name": "ipython",
    "version": 3
   },
   "file_extension": ".py",
   "mimetype": "text/x-python",
   "name": "python",
   "nbconvert_exporter": "python",
   "pygments_lexer": "ipython3",
   "version": "3.10.11"
  }
 },
 "nbformat": 4,
 "nbformat_minor": 2
}
