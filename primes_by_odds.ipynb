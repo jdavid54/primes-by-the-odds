{
 "cells": [
  {
   "cell_type": "code",
   "execution_count": null,
   "metadata": {},
   "outputs": [],
   "source": [
    "import pickle"
   ]
  },
  {
   "cell_type": "code",
   "execution_count": 31,
   "metadata": {},
   "outputs": [],
   "source": [
    "\n",
    "debug = False\n",
    "\n",
    "def dummy(*args, **kargs): pass\n",
    "\n",
    "if not debug: \n",
    "    #don't print\n",
    "    xprint = dummy\n",
    "else:\n",
    "    #please print for debug\n",
    "    xprint = print\n"
   ]
  },
  {
   "cell_type": "code",
   "execution_count": 100,
   "metadata": {},
   "outputs": [],
   "source": [
    "def first_primes(max=100000):\n",
    "    # primes are always odd numbers : 3, 5, 7 ......\n",
    "    # but not all odd numbers are primes ! ex: 9, 15\n",
    "    # So we divide each odd number by the primes already known and each time we found one, we add it to the list of primes. \n",
    "    for n in range(3,max,2):\n",
    "        prime=True\n",
    "        #odds.append(n)\n",
    "        for k in primes:\n",
    "            ops+=1\n",
    "            xprint(n,k,n%k==0,end=\"\")\n",
    "            if (n%k) == 0:\n",
    "                prime = False\n",
    "                xprint()\n",
    "                xprint(n,\" is not prime!\")\n",
    "                xprint()\n",
    "                break\n",
    "            else:\n",
    "                xprint()\n",
    "        # after divisions with all primes or n not prime   \n",
    "        if prime and n not in primes:\n",
    "            xprint(n,\" is prime !\")\n",
    "            primes.append(n)\n",
    "            xprint()\n",
    "    return [2]+primes \n"
   ]
  },
  {
   "cell_type": "code",
   "execution_count": null,
   "metadata": {},
   "outputs": [],
   "source": [
    "# compute the primes under 1 million\n",
    "max = 1000000\n",
    "odds=[]\n",
    "primes = []\n",
    "ops=0\n",
    "# primes = first_primes(max)\n",
    "\n",
    "# it takes 30m 52.3s "
   ]
  },
  {
   "cell_type": "code",
   "execution_count": 103,
   "metadata": {},
   "outputs": [
    {
     "data": {
      "text/plain": [
       "(1099997, 3752407333)"
      ]
     },
     "execution_count": 103,
     "metadata": {},
     "output_type": "execute_result"
    }
   ],
   "source": [
    "primes[-1], ops"
   ]
  },
  {
   "cell_type": "code",
   "execution_count": 104,
   "metadata": {},
   "outputs": [
    {
     "data": {
      "text/plain": [
       "(85714, 1099997)"
      ]
     },
     "execution_count": 104,
     "metadata": {},
     "output_type": "execute_result"
    }
   ],
   "source": [
    "len(primes),primes[-1]"
   ]
  },
  {
   "cell_type": "code",
   "execution_count": 105,
   "metadata": {},
   "outputs": [
    {
     "name": "stdout",
     "output_type": "stream",
     "text": [
      "1098541\t1098593\t1098613\t1098623\t1098631\t1098649\t\n",
      "1098667\t1098673\t1098689\t1098707\t1098709\t1098731\t1098737\t1098787\t1098791\t1098803\t1098821\t1098833\t1098847\t1098953\t1098967\t\n",
      "1098973\t1098989\t1099031\t1099051\t1099057\t1099079\t1099081\t1099097\t1099103\t1099117\t1099121\t1099139\t1099171\t1099177\t1099181\t\n",
      "1099199\t1099223\t1099247\t1099249\t1099261\t1099279\t1099289\t1099309\t1099313\t1099327\t1099337\t1099363\t1099369\t1099391\t1099393\t\n",
      "1099409\t1099411\t1099421\t1099433\t1099459\t1099463\t1099487\t1099489\t1099493\t1099499\t1099507\t1099513\t1099519\t1099523\t1099541\t\n",
      "1099547\t1099559\t1099573\t1099589\t1099619\t1099621\t1099627\t1099633\t1099649\t1099669\t1099687\t1099711\t1099717\t1099723\t1099727\t\n",
      "1099729\t1099741\t1099757\t1099771\t1099783\t1099793\t1099799\t1099807\t1099817\t1099823\t1099841\t1099843\t1099859\t1099867\t1099927\t\n",
      "1099933\t1099957\t1099961\t1099997\t"
     ]
    }
   ],
   "source": [
    "last = 100  # the last ones\n",
    "start = len(primes)-last+1\n",
    "end = start + last\n",
    "for k in range(start,end):\n",
    "    print(primes[k-1],end=\"\\t\")\n",
    "    if k%15==0: print()"
   ]
  },
  {
   "cell_type": "code",
   "execution_count": 38,
   "metadata": {},
   "outputs": [],
   "source": [
    "# save once\n",
    "# with open('primes.pkl', 'wb') as f:\n",
    "#     pickle.dump(primes, f)"
   ]
  },
  {
   "cell_type": "code",
   "execution_count": 64,
   "metadata": {},
   "outputs": [],
   "source": [
    "# reset primes to the first 1 million search\n",
    "# read from file\n",
    "with open('primes.pkl', 'rb') as f:\n",
    "    mynewprimeslist = pickle.load(f)\n",
    "# reset primes with data read\n",
    "primes = mynewprimeslist"
   ]
  },
  {
   "cell_type": "code",
   "execution_count": 107,
   "metadata": {},
   "outputs": [],
   "source": [
    "def next_series():\n",
    "    next_primes = []\n",
    "    for n in range(min,max,2):\n",
    "        prime=True\n",
    "        #odds.append(n)\n",
    "        for k in primes:\n",
    "            ops+=1\n",
    "            xprint(n,k,n%k==0,end=\"\")\n",
    "            if (n%k) == 0:\n",
    "                prime = False\n",
    "                xprint()\n",
    "                xprint(n,\" is not prime!\")\n",
    "                xprint()\n",
    "                break\n",
    "            else:\n",
    "                xprint()\n",
    "        # after divisions with all primes or n not prime   \n",
    "        if prime and n not in primes:\n",
    "            xprint(n,\" is prime !\")\n",
    "            primes.append(n)\n",
    "            next_primes.append(n)\n",
    "            xprint()\n",
    "    return primes, next_primes\n",
    "\n",
    "# 34m 33.3s"
   ]
  },
  {
   "cell_type": "code",
   "execution_count": null,
   "metadata": {},
   "outputs": [],
   "source": [
    "# next from min=1million+1 to max\n",
    "next = 100000\n",
    "min = 1000001  # must be odd\n",
    "max = min+next\n",
    "# primes, primes2 = next_series()"
   ]
  },
  {
   "cell_type": "code",
   "execution_count": 108,
   "metadata": {},
   "outputs": [
    {
     "data": {
      "text/plain": [
       "(7216, [1099927, 1099933, 1099957, 1099961, 1099997])"
      ]
     },
     "execution_count": 108,
     "metadata": {},
     "output_type": "execute_result"
    }
   ],
   "source": [
    "len(primes2), primes2[-5:]"
   ]
  },
  {
   "cell_type": "code",
   "execution_count": 69,
   "metadata": {},
   "outputs": [],
   "source": [
    "# save primes2\n",
    "# with open('primes2.pkl', 'wb') as f:\n",
    "#     pickle.dump(primes2, f)"
   ]
  }
 ],
 "metadata": {
  "kernelspec": {
   "display_name": "Python 3",
   "language": "python",
   "name": "python3"
  },
  "language_info": {
   "codemirror_mode": {
    "name": "ipython",
    "version": 3
   },
   "file_extension": ".py",
   "mimetype": "text/x-python",
   "name": "python",
   "nbconvert_exporter": "python",
   "pygments_lexer": "ipython3",
   "version": "3.10.11"
  }
 },
 "nbformat": 4,
 "nbformat_minor": 2
}
