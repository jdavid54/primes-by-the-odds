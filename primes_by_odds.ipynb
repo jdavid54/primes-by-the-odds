{
 "cells": [
  {
   "cell_type": "code",
   "execution_count": 1,
   "metadata": {},
   "outputs": [],
   "source": [
    "from numpy import sqrt\n",
    "import pickle"
   ]
  },
  {
   "cell_type": "code",
   "execution_count": 2,
   "metadata": {},
   "outputs": [],
   "source": [
    "\n",
    "debug = False\n",
    "\n",
    "def dummy(*args, **kargs): pass\n",
    "\n",
    "if not debug: \n",
    "    #don't print\n",
    "    xprint = dummy\n",
    "else:\n",
    "    #please print for debug\n",
    "    xprint = print\n"
   ]
  },
  {
   "cell_type": "code",
   "execution_count": 3,
   "metadata": {},
   "outputs": [],
   "source": [
    "max = 1000000\n",
    "odds=[]\n",
    "primes = []\n",
    "ops=0"
   ]
  },
  {
   "cell_type": "code",
   "execution_count": 4,
   "metadata": {},
   "outputs": [],
   "source": [
    "def first_primes(max=100000):\n",
    "    global ops\n",
    "    # primes are always odd numbers : 3, 5, 7 ......\n",
    "    # but not all odd numbers are primes ! ex: 9, 15\n",
    "    # So we divide each odd number by the primes already known and each time we found one, we add it to the list of primes. \n",
    "    for n in range(3,max,2):\n",
    "        if unit==5 and n!=5:continue\n",
    "        prime=True\n",
    "        #odds.append(n)\n",
    "        for k in primes:\n",
    "            if k>sqrt(n):break\n",
    "            ops+=1\n",
    "            xprint(n,k,n%k==0,end=\"\")\n",
    "            if (n%k) == 0:\n",
    "                prime = False\n",
    "                xprint()\n",
    "                xprint(n,\" is not prime!\")\n",
    "                xprint()\n",
    "                break\n",
    "            else:\n",
    "                xprint()\n",
    "        # after divisions with all primes or n not prime   \n",
    "        if prime and n not in primes:\n",
    "            xprint(n,\" is prime !\")\n",
    "            primes.append(n)\n",
    "            xprint()\n",
    "    return [2]+primes \n"
   ]
  },
  {
   "cell_type": "code",
   "execution_count": 5,
   "metadata": {},
   "outputs": [],
   "source": [
    "# compute the primes under 1 million\n",
    "\n",
    "primes = first_primes(500000)\n",
    "\n",
    "# it takes 30m 52.3s without sqrt(n)\n",
    "# it takes 1m 45.4s with sqrt(n)"
   ]
  },
  {
   "cell_type": "code",
   "execution_count": null,
   "metadata": {},
   "outputs": [],
   "source": [
    "# save once\n",
    "# with open('primes.pkl', 'wb') as f:\n",
    "#     pickle.dump(primes, f)"
   ]
  },
  {
   "cell_type": "code",
   "execution_count": 6,
   "metadata": {},
   "outputs": [
    {
     "data": {
      "text/plain": [
       "(78498, 999983)"
      ]
     },
     "execution_count": 6,
     "metadata": {},
     "output_type": "execute_result"
    }
   ],
   "source": [
    "primes[-1], ops\n",
    "len(primes),primes[-1]"
   ]
  },
  {
   "cell_type": "code",
   "execution_count": 7,
   "metadata": {},
   "outputs": [
    {
     "name": "stdout",
     "output_type": "stream",
     "text": [
      "998551\t998561\t998617\t998623\t998629\t998633\t998651\t\n",
      "998653\t998681\t998687\t998689\t998717\t998737\t998743\t998749\t998759\t998779\t998813\t998819\t998831\t998839\t998843\t\n",
      "998857\t998861\t998897\t998909\t998917\t998927\t998941\t998947\t998951\t998957\t998969\t998983\t998989\t999007\t999023\t\n",
      "999029\t999043\t999049\t999067\t999083\t999091\t999101\t999133\t999149\t999169\t999181\t999199\t999217\t999221\t999233\t\n",
      "999239\t999269\t999287\t999307\t999329\t999331\t999359\t999371\t999377\t999389\t999431\t999433\t999437\t999451\t999491\t\n",
      "999499\t999521\t999529\t999541\t999553\t999563\t999599\t999611\t999613\t999623\t999631\t999653\t999667\t999671\t999683\t\n",
      "999721\t999727\t999749\t999763\t999769\t999773\t999809\t999853\t999863\t999883\t999907\t999917\t999931\t999953\t999959\t\n",
      "999961\t999979\t999983\t"
     ]
    }
   ],
   "source": [
    "last = 100  # the last ones\n",
    "start = len(primes)-last+1\n",
    "end = start + last\n",
    "for k in range(start,end):\n",
    "    print(primes[k-1],end=\"\\t\")\n",
    "    if k%15==0: print()"
   ]
  },
  {
   "cell_type": "markdown",
   "metadata": {},
   "source": [
    "## Compute the next primes after 1 million"
   ]
  },
  {
   "cell_type": "code",
   "execution_count": 27,
   "metadata": {},
   "outputs": [],
   "source": [
    "import pickle\n",
    "from numpy import sqrt\n",
    "ops = 0\n"
   ]
  },
  {
   "cell_type": "code",
   "execution_count": 69,
   "metadata": {},
   "outputs": [],
   "source": [
    "files = [\"primes2million.pkl\",\"primes3million.pkl\",\"primes4million.pkl\",\n",
    "        \"primes5million.pkl\",\"primes6million.pkl\",\"primes7million.pkl\",\n",
    "        \"primes8million.pkl\", \"primes9million.pkl\",]\n"
   ]
  },
  {
   "cell_type": "code",
   "execution_count": 70,
   "metadata": {},
   "outputs": [],
   "source": [
    "\n",
    "# reset primes to the first 1 million search\n",
    "with open('primes.pkl', 'rb') as f:\n",
    "    primes = pickle.load(f)\n",
    "\n",
    "for file in files:    \n",
    "    # read from file\n",
    "    with open(file, 'rb') as f:\n",
    "        mynewprimeslist = pickle.load(f)\n",
    "    # reset primes with data read\n",
    "    primes = primes+mynewprimeslist"
   ]
  },
  {
   "cell_type": "code",
   "execution_count": 71,
   "metadata": {},
   "outputs": [
    {
     "data": {
      "text/plain": [
       "(602489, 8999993)"
      ]
     },
     "execution_count": 71,
     "metadata": {},
     "output_type": "execute_result"
    }
   ],
   "source": [
    "len(primes),primes[-1]"
   ]
  },
  {
   "cell_type": "code",
   "execution_count": 45,
   "metadata": {},
   "outputs": [],
   "source": [
    "def next_series():\n",
    "    global ops\n",
    "    next_primes = []\n",
    "    for n in range(min,max,2):\n",
    "        prime=True\n",
    "        #odds.append(n)\n",
    "        for k in primes:\n",
    "            if k>sqrt(n):break\n",
    "            ops+=1\n",
    "            xprint(n,k,n%k==0,end=\"\")\n",
    "            if (n%k) == 0:\n",
    "                prime = False\n",
    "                xprint()\n",
    "                xprint(n,\" is not prime!\")\n",
    "                xprint()\n",
    "                break\n",
    "            else:\n",
    "                xprint()\n",
    "        # after divisions with all primes or n not prime   \n",
    "        if prime and n not in primes:\n",
    "            xprint(n,\" is prime !\")\n",
    "            primes.append(n)\n",
    "            next_primes.append(n)\n",
    "            xprint()\n",
    "    return primes, next_primes\n",
    "\n"
   ]
  },
  {
   "cell_type": "code",
   "execution_count": 72,
   "metadata": {},
   "outputs": [],
   "source": [
    "# next from min=1million+1 to max\n",
    "next = 1000000\n",
    "min = 9000001  # must be odd\n",
    "max = min+next\n",
    "primes, primes2 = next_series()\n",
    "\n",
    "# 34m 33.3s without sqrt(n)\n",
    "# 17.9s with sqrt(n) for 100000\n",
    "# 4mn 44.1s for 2000000\n",
    "# 9mn 40.9s for 3000000\n",
    "# 7mn 52.9s for 4000000\n",
    "# 10mn 8.3s for 5 millions\n",
    "# 11mn 35.9s 6 millions\n",
    "# 12mn 51.2s 7 millions\n",
    "# 13mn 12.8s 8 millions\n",
    "# 15mn 35.9s 9 millions\n",
    "# 23mn 49.4s 10 millions"
   ]
  },
  {
   "cell_type": "code",
   "execution_count": 73,
   "metadata": {},
   "outputs": [
    {
     "name": "stdout",
     "output_type": "stream",
     "text": [
      "9998279\t9998281\t9998309\t9998321\t9998323\t9998333\t\n",
      "9998377\t9998381\t9998393\t9998413\t9998423\t9998441\t9998447\t9998459\t9998479\t9998539\t9998543\t9998557\t9998561\t9998581\t9998587\t\n",
      "9998603\t9998623\t9998633\t9998641\t9998689\t9998699\t9998701\t9998719\t9998741\t9998743\t9998749\t9998753\t9998777\t9998797\t9998801\t\n",
      "9998809\t9998851\t9998861\t9998867\t9998887\t9998893\t9998903\t9998929\t9998969\t9998971\t9998977\t9999047\t9999049\t9999053\t9999071\t\n",
      "9999083\t9999161\t9999163\t9999167\t9999193\t9999217\t9999221\t9999233\t9999271\t9999277\t9999289\t9999299\t9999317\t9999337\t9999347\t\n",
      "9999397\t9999401\t9999419\t9999433\t9999463\t9999469\t9999481\t9999511\t9999533\t9999593\t9999601\t9999637\t9999653\t9999659\t9999667\t\n",
      "9999677\t9999713\t9999739\t9999749\t9999761\t9999823\t9999863\t9999877\t9999883\t9999889\t9999901\t9999907\t9999929\t9999931\t9999937\t\n",
      "9999943\t9999971\t9999973\t9999991\t"
     ]
    }
   ],
   "source": [
    "last = 100  # the last ones\n",
    "start = len(primes)-last+1\n",
    "end = start + last\n",
    "for k in range(start,end):\n",
    "    print(primes[k-1],end=\"\\t\")\n",
    "    if k%15==0: print()"
   ]
  },
  {
   "cell_type": "code",
   "execution_count": 74,
   "metadata": {},
   "outputs": [
    {
     "data": {
      "text/plain": [
       "(62090,\n",
       " [9000011, 9000041, 9000049, 9000059, 9000067],\n",
       " [9999937, 9999943, 9999971, 9999973, 9999991])"
      ]
     },
     "execution_count": 74,
     "metadata": {},
     "output_type": "execute_result"
    }
   ],
   "source": [
    "len(primes2), primes2[:5], primes2[-5:]"
   ]
  },
  {
   "cell_type": "code",
   "execution_count": 75,
   "metadata": {},
   "outputs": [],
   "source": [
    "#save primes2\n",
    "with open('primes10million.pkl', 'wb') as f:\n",
    "     pickle.dump(primes2, f)"
   ]
  }
 ],
 "metadata": {
  "kernelspec": {
   "display_name": "Python 3",
   "language": "python",
   "name": "python3"
  },
  "language_info": {
   "codemirror_mode": {
    "name": "ipython",
    "version": 3
   },
   "file_extension": ".py",
   "mimetype": "text/x-python",
   "name": "python",
   "nbconvert_exporter": "python",
   "pygments_lexer": "ipython3",
   "version": "3.10.11"
  }
 },
 "nbformat": 4,
 "nbformat_minor": 2
}
